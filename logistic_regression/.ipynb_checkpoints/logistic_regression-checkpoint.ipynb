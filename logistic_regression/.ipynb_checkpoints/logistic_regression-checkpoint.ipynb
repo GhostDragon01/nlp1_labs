{
 "cells": [
  {
   "cell_type": "markdown",
   "id": "79e21760",
   "metadata": {},
   "source": [
    "# Features"
   ]
  },
  {
   "cell_type": "code",
   "execution_count": 1,
   "id": "3c20469f",
   "metadata": {},
   "outputs": [
    {
     "data": {
      "application/vnd.jupyter.widget-view+json": {
       "model_id": "567789146a604fdf9afc614e8d204562",
       "version_major": 2,
       "version_minor": 0
      },
      "text/plain": [
       "Downloading readme:   0%|          | 0.00/7.59k [00:00<?, ?B/s]"
      ]
     },
     "metadata": {},
     "output_type": "display_data"
    },
    {
     "name": "stderr",
     "output_type": "stream",
     "text": [
      "Found cached dataset imdb (C:/Users/DELL/.cache/huggingface/datasets/imdb/plain_text/1.0.0/d613c88cf8fa3bab83b4ded3713f1f74830d1100e171db75bbddb80b3345c9c0)\n"
     ]
    }
   ],
   "source": [
    "from datasets import load_dataset\n",
    "\n",
    "train_data = load_dataset(\"imdb\", split=\"train\")"
   ]
  },
  {
   "cell_type": "code",
   "execution_count": 2,
   "id": "c86f55b0",
   "metadata": {},
   "outputs": [
    {
     "data": {
      "application/vnd.jupyter.widget-view+json": {
       "model_id": "",
       "version_major": 2,
       "version_minor": 0
      },
      "text/plain": [
       "Map:   0%|          | 0/25000 [00:00<?, ? examples/s]"
      ]
     },
     "metadata": {},
     "output_type": "display_data"
    }
   ],
   "source": [
    "from string import punctuation\n",
    "import re\n",
    "\n",
    "\n",
    "def preprocess(dataset: dict) -> dict:\n",
    "    \"\"\"\n",
    "    Define a function to preprocess the text\n",
    "    \"\"\"\n",
    "    # convert the text to lowercase and remove <br>\n",
    "    dataset['text'] = dataset['text'].lower().replace('<br /><br />', '')\n",
    "    \n",
    "    # replace punctuation with spaces\n",
    "    new_punc = punctuation.replace('!', '')\n",
    "    dataset['text'] = re.sub('['+new_punc+']', ' ', dataset['text'])\n",
    "    \n",
    "    # Replace multiple with a single space\n",
    "    dataset['text'] = \" \".join(dataset['text'].split())\n",
    "    \n",
    "    return dataset\n",
    "\n",
    "# Apply the preprocessing function to the dataset\n",
    "train_data = train_data.map(preprocess)"
   ]
  },
  {
   "cell_type": "code",
   "execution_count": 4,
   "id": "ef725a12",
   "metadata": {},
   "outputs": [],
   "source": [
    "from math import log\n",
    "import numpy as np\n",
    "\n",
    "\n",
    "def get_lexicon_list() -> tuple:\n",
    "    \"\"\"\n",
    "    A function to create the list of positive and negative words from the vader lexicon\n",
    "    \"\"\"\n",
    "    \n",
    "    with open(\"./vader_lexicon.txt\") as file:\n",
    "        lines = file.read().splitlines()\n",
    "\n",
    "    lexicon = {}\n",
    "    for line in lines:\n",
    "        splits = line.split(\"\\t\")\n",
    "        lexicon[splits[0]] = float(splits[1])\n",
    "\n",
    "    positive_lexicon = {}\n",
    "    negative_lexicon = {}\n",
    "\n",
    "    for word, score in lexicon.items():\n",
    "        if score >= 1:\n",
    "            positive_lexicon[word] = score\n",
    "        if score <= -1:\n",
    "            negative_lexicon[word] = score\n",
    "    return positive_lexicon, negative_lexicon\n",
    "\n",
    "\n",
    "def get_words_sentiment(tokens: list) -> tuple:\n",
    "    \"\"\" \n",
    "    A function that take a list of words and return the number of positive and negative words.\n",
    "    \"\"\"\n",
    "    positive_lexicon, negative_lexicon = get_lexicon_list()\n",
    "    pos_count = 0\n",
    "    neg_count = 0\n",
    "\n",
    "    for word in tokens:\n",
    "        if word in positive_lexicon:\n",
    "            pos_count += 1\n",
    "        if word in negative_lexicon:\n",
    "            neg_count += 1\n",
    "    return pos_count, neg_count\n",
    "\n",
    "\n",
    "def features(text: str) -> list:\n",
    "    \"\"\"\n",
    "    A function to generate a vector with the features described in the subject.\n",
    "    \"\"\"\n",
    "    \n",
    "    tokens = text.split(\" \")\n",
    "    neg = 1 if \"no\" in tokens else 0\n",
    "    pronouns = tokens.count(\"i\") + tokens.count(\"you\")\n",
    "    exclamation = 1 if \"!\" in text else 0\n",
    "    log_count = log(len(tokens))\n",
    "    positive_words, negative_words = get_words_sentiment(tokens)\n",
    "    return [neg, pronouns, exclamation, log_count, positive_words, negative_words]\n",
    "\n",
    "\n",
    "def get_array(dataset: dict) -> np.ndarray:\n",
    "    \"\"\"\n",
    "    Apply the feature function to all the dataset.\n",
    "    \"\"\"\n",
    "    return np.array([features(text) for text in dataset])\n"
   ]
  },
  {
   "cell_type": "code",
   "execution_count": 5,
   "id": "a8f8e9f4",
   "metadata": {},
   "outputs": [
    {
     "data": {
      "text/plain": [
       "[0, 1, 1, 1.791759469228055, 2, 0]"
      ]
     },
     "execution_count": 5,
     "metadata": {},
     "output_type": "execute_result"
    }
   ],
   "source": [
    "# Let's test it with the example used in class\n",
    "text = \"i love this good movie !\"\n",
    "features(text)"
   ]
  },
  {
   "cell_type": "markdown",
   "id": "c462c79c",
   "metadata": {},
   "source": [
    "We get the same result : [0, 1, 1, 1.791759469228055, 2, 0]"
   ]
  },
  {
   "cell_type": "markdown",
   "id": "89187f65",
   "metadata": {},
   "source": [
    "# Logistic regression classifier"
   ]
  },
  {
   "cell_type": "code",
   "execution_count": 6,
   "id": "deaa932c",
   "metadata": {},
   "outputs": [],
   "source": [
    "import matplotlib.pyplot as plt\n",
    "import numpy as np\n",
    "import pandas as pd\n",
    "import seaborn as sns\n",
    "from sklearn.model_selection import train_test_split\n",
    "\n",
    "import torch\n",
    "from torch import nn"
   ]
  },
  {
   "cell_type": "code",
   "execution_count": 7,
   "id": "fa1501c0",
   "metadata": {},
   "outputs": [],
   "source": [
    "# Apply the feature function to all the dataset\n",
    "all_points = get_array(train_data[\"text\"])\n",
    "labels = train_data[\"label\"]"
   ]
  },
  {
   "cell_type": "code",
   "execution_count": 8,
   "id": "858b368e",
   "metadata": {},
   "outputs": [
    {
     "data": {
      "text/html": [
       "<div>\n",
       "<style scoped>\n",
       "    .dataframe tbody tr th:only-of-type {\n",
       "        vertical-align: middle;\n",
       "    }\n",
       "\n",
       "    .dataframe tbody tr th {\n",
       "        vertical-align: top;\n",
       "    }\n",
       "\n",
       "    .dataframe thead th {\n",
       "        text-align: right;\n",
       "    }\n",
       "</style>\n",
       "<table border=\"1\" class=\"dataframe\">\n",
       "  <thead>\n",
       "    <tr style=\"text-align: right;\">\n",
       "      <th></th>\n",
       "      <th>neg</th>\n",
       "      <th>pronouns</th>\n",
       "      <th>exclamation</th>\n",
       "      <th>log_count</th>\n",
       "      <th>positive_words</th>\n",
       "      <th>negative_words</th>\n",
       "      <th>label</th>\n",
       "    </tr>\n",
       "  </thead>\n",
       "  <tbody>\n",
       "    <tr>\n",
       "      <th>0</th>\n",
       "      <td>1.0</td>\n",
       "      <td>7.0</td>\n",
       "      <td>0.0</td>\n",
       "      <td>5.673323</td>\n",
       "      <td>10.0</td>\n",
       "      <td>6.0</td>\n",
       "      <td>0</td>\n",
       "    </tr>\n",
       "    <tr>\n",
       "      <th>1</th>\n",
       "      <td>1.0</td>\n",
       "      <td>3.0</td>\n",
       "      <td>0.0</td>\n",
       "      <td>5.429346</td>\n",
       "      <td>6.0</td>\n",
       "      <td>4.0</td>\n",
       "      <td>0</td>\n",
       "    </tr>\n",
       "    <tr>\n",
       "      <th>2</th>\n",
       "      <td>1.0</td>\n",
       "      <td>0.0</td>\n",
       "      <td>0.0</td>\n",
       "      <td>4.510860</td>\n",
       "      <td>3.0</td>\n",
       "      <td>3.0</td>\n",
       "      <td>0</td>\n",
       "    </tr>\n",
       "    <tr>\n",
       "      <th>3</th>\n",
       "      <td>0.0</td>\n",
       "      <td>3.0</td>\n",
       "      <td>0.0</td>\n",
       "      <td>4.795791</td>\n",
       "      <td>5.0</td>\n",
       "      <td>5.0</td>\n",
       "      <td>0</td>\n",
       "    </tr>\n",
       "    <tr>\n",
       "      <th>4</th>\n",
       "      <td>0.0</td>\n",
       "      <td>10.0</td>\n",
       "      <td>1.0</td>\n",
       "      <td>5.730100</td>\n",
       "      <td>5.0</td>\n",
       "      <td>11.0</td>\n",
       "      <td>0</td>\n",
       "    </tr>\n",
       "  </tbody>\n",
       "</table>\n",
       "</div>"
      ],
      "text/plain": [
       "   neg  pronouns  exclamation  log_count  positive_words  negative_words  \\\n",
       "0  1.0       7.0          0.0   5.673323            10.0             6.0   \n",
       "1  1.0       3.0          0.0   5.429346             6.0             4.0   \n",
       "2  1.0       0.0          0.0   4.510860             3.0             3.0   \n",
       "3  0.0       3.0          0.0   4.795791             5.0             5.0   \n",
       "4  0.0      10.0          1.0   5.730100             5.0            11.0   \n",
       "\n",
       "   label  \n",
       "0      0  \n",
       "1      0  \n",
       "2      0  \n",
       "3      0  \n",
       "4      0  "
      ]
     },
     "execution_count": 8,
     "metadata": {},
     "output_type": "execute_result"
    }
   ],
   "source": [
    "# Creation of the dataframe\n",
    "df = pd.DataFrame()\n",
    "names = [\"neg\", \"pronouns\", \"exclamation\", \"log_count\", \"positive_words\", \"negative_words\"]\n",
    "\n",
    "for idx, name in enumerate(names):\n",
    "    df[name] = all_points[:, idx]\n",
    "df[\"label\"] = labels\n",
    "df.head()"
   ]
  },
  {
   "cell_type": "code",
   "execution_count": 9,
   "id": "93e1fc42",
   "metadata": {},
   "outputs": [],
   "source": [
    "# We split the training set into training and validation set\n",
    "\n",
    "all_points = torch.tensor(all_points, dtype=torch.float32)\n",
    "labels = torch.tensor(labels, dtype=torch.float32).reshape(-1, 1)\n",
    "\n",
    "X_train, X_test, y_train, y_test = train_test_split(\n",
    "    all_points,\n",
    "    labels,\n",
    "    test_size=0.2,\n",
    "    stratify=labels,\n",
    "    random_state=42,\n",
    ")\n",
    "X_train, X_valid, y_train, y_valid = train_test_split(\n",
    "    X_train,\n",
    "    y_train,\n",
    "    test_size=0.2,\n",
    "    stratify=y_train,\n",
    "    random_state=42,\n",
    ")"
   ]
  },
  {
   "cell_type": "code",
   "execution_count": 10,
   "id": "efabf536",
   "metadata": {},
   "outputs": [],
   "source": [
    "class LogisticRegression(nn.Module):\n",
    "    \"\"\"A logistic regression implementation\"\"\"\n",
    "\n",
    "    def __init__(self, input_dim: int, nb_classes: int) -> None:\n",
    "        \"\"\"\n",
    "        Args:\n",
    "            input_dim: the dimension of the input features.\n",
    "            nb_classes: the number of classes to predict.\n",
    "        \"\"\"\n",
    "        super().__init__()\n",
    "        output_layer = nn.Sigmoid() if nb_classes == 1 else nn.Softmax()\n",
    "        self.classifier = torch.nn.Sequential(\n",
    "            nn.Linear(input_dim, nb_classes),\n",
    "            output_layer,\n",
    "        )\n",
    "\n",
    "    def forward(self, x: torch.Tensor) -> torch.Tensor:\n",
    "        \"\"\"\n",
    "        Args:\n",
    "            x: the input tensor.\n",
    "        Returns:\n",
    "            The output of activation function.\n",
    "        \"\"\"\n",
    "        return self.classifier(x)"
   ]
  },
  {
   "cell_type": "code",
   "execution_count": 11,
   "id": "5a1506b0",
   "metadata": {},
   "outputs": [],
   "source": [
    "model = LogisticRegression(6, 1)"
   ]
  },
  {
   "cell_type": "code",
   "execution_count": 12,
   "id": "4bf962fb",
   "metadata": {},
   "outputs": [
    {
     "name": "stdout",
     "output_type": "stream",
     "text": [
      "tensor(2.2879, grad_fn=<BinaryCrossEntropyBackward0>)\n",
      "tensor(0.5869, grad_fn=<BinaryCrossEntropyBackward0>)\n",
      "tensor(0.5838, grad_fn=<BinaryCrossEntropyBackward0>)\n",
      "tensor(0.5828, grad_fn=<BinaryCrossEntropyBackward0>)\n",
      "tensor(0.5823, grad_fn=<BinaryCrossEntropyBackward0>)\n",
      "tensor(0.5821, grad_fn=<BinaryCrossEntropyBackward0>)\n",
      "tensor(0.5819, grad_fn=<BinaryCrossEntropyBackward0>)\n",
      "tensor(0.5818, grad_fn=<BinaryCrossEntropyBackward0>)\n",
      "tensor(0.5818, grad_fn=<BinaryCrossEntropyBackward0>)\n",
      "tensor(0.5818, grad_fn=<BinaryCrossEntropyBackward0>)\n",
      "CPU times: total: 2.31 s\n",
      "Wall time: 1.73 s\n"
     ]
    }
   ],
   "source": [
    "%%time\n",
    "\n",
    "# Keeping an eye on the losses\n",
    "train_losses = []\n",
    "test_losses = []\n",
    "\n",
    "def training_loop(train_losses: list, test_losses: list, weight: int = 0.5) -> tuple:\n",
    "    \"\"\" Take the weight_decay in argument and apply a SGD with it \"\"\"\n",
    "    criterion = nn.BCELoss()  # Binary cross entropy\n",
    "    # Stochastic gradient descent\n",
    "    optimizer = torch.optim.SGD(model.parameters(), lr=0.01, weight_decay=weight)\n",
    "    \n",
    "    n_epochs = 1000\n",
    "\n",
    "    # Training loop\n",
    "    for epoch in range(n_epochs):\n",
    "        # Setting all gradients to zero.\n",
    "        optimizer.zero_grad()\n",
    "\n",
    "        # Sending the whole training set through the model.\n",
    "        predictions = model(X_train)\n",
    "        # Computing the loss.\n",
    "        loss = criterion(predictions, y_train)\n",
    "        train_losses.append(loss.item())\n",
    "        if epoch % 100 == 0:\n",
    "            print(loss)\n",
    "        # Computing the gradients and gradient descent.\n",
    "        loss.backward()\n",
    "        optimizer.step()\n",
    "\n",
    "        # When computing the validation loss, we do not want to update the weights.\n",
    "        # torch.no_grad tells PyTorch to not save the necessary data used for\n",
    "        # gradient descent.\n",
    "        with torch.no_grad():\n",
    "            predictions = model(X_valid)\n",
    "            loss = criterion(predictions, y_valid)\n",
    "            test_losses.append(loss)\n",
    "    return train_losses, test_losses\n",
    "            \n",
    "train_losses, test_losses = training_loop(train_losses, test_losses)"
   ]
  },
  {
   "cell_type": "code",
   "execution_count": 13,
   "id": "b8e15cef",
   "metadata": {},
   "outputs": [
    {
     "data": {
      "text/plain": [
       "<matplotlib.legend.Legend at 0x18238102b00>"
      ]
     },
     "execution_count": 13,
     "metadata": {},
     "output_type": "execute_result"
    },
    {
     "data": {
      "image/png": "[encoded data removed]",
      "text/plain": [
       "<Figure size 640x480 with 1 Axes>"
      ]
     },
     "metadata": {},
     "output_type": "display_data"
    }
   ],
   "source": [
    "# Checking the losses\n",
    "plt.plot(np.arange(len(train_losses)), train_losses, label=\"Training loss\")\n",
    "plt.plot(np.arange(len(test_losses)), test_losses, label=\"Test loss\")\n",
    "plt.legend()"
   ]
  },
  {
   "cell_type": "code",
   "execution_count": 14,
   "id": "20a6b614",
   "metadata": {},
   "outputs": [
    {
     "name": "stdout",
     "output_type": "stream",
     "text": [
      "0.7153125 0.71275 0.7014\n"
     ]
    }
   ],
   "source": [
    "# Computing the accuracy for our 3 splits.\n",
    "with torch.no_grad():\n",
    "    p_train = model(X_train)\n",
    "    p_train = np.round(p_train.numpy())\n",
    "    training_accuracy = np.mean(p_train == y_train.numpy())\n",
    "    p_valid = model(X_valid)\n",
    "    p_valid = np.round(p_valid.numpy())\n",
    "    valid_accuracy = np.mean(p_valid == y_valid.numpy())\n",
    "    p_test = model(X_test)\n",
    "    p_test = np.round(p_test.numpy())\n",
    "    test_accuracy = np.mean(p_test == y_test.numpy())\n",
    "print(training_accuracy, valid_accuracy, test_accuracy)"
   ]
  },
  {
   "cell_type": "markdown",
   "id": "26f012ec",
   "metadata": {},
   "source": [
    "### The result of the accuracy of our 3 splits :\n",
    "- Training accuracy : 0.7153125 \n",
    "- Validation accuracy : 0.71275 \n",
    "- Test accuracy : 0.7014"
   ]
  },
  {
   "cell_type": "markdown",
   "id": "2980b7ef",
   "metadata": {},
   "source": [
    "# Which features seems to play most for both classes ?"
   ]
  },
  {
   "cell_type": "code",
   "execution_count": 15,
   "id": "4684ca75",
   "metadata": {},
   "outputs": [
    {
     "data": {
      "text/plain": [
       "(tensor([[-0.0262, -0.0492, -0.0055, -0.0145,  0.1286, -0.1506]]),\n",
       " tensor([-0.0041]))"
      ]
     },
     "execution_count": 15,
     "metadata": {},
     "output_type": "execute_result"
    }
   ],
   "source": [
    "model.classifier[0].state_dict()[\"weight\"], model.classifier[0].state_dict()[\"bias\"]"
   ]
  },
  {
   "cell_type": "markdown",
   "id": "359b0971",
   "metadata": {},
   "source": [
    "### We get the following result :\n",
    "(tensor([[-0.0262, -0.0492, -0.0055, -0.0145,  0.1286, -0.1506]]),\n",
    " tensor([-0.0041]))\n",
    " \n",
    "The two features (5 and 6) that seem to play the most for both classes are the number of words in the documents that are either in the positive or negative lexicons."
   ]
  },
  {
   "cell_type": "markdown",
   "id": "7a8e66f2",
   "metadata": {},
   "source": [
    "# Bonus\n",
    "##  weight_decay variation"
   ]
  },
  {
   "cell_type": "code",
   "execution_count": 16,
   "id": "3d6aa5c4",
   "metadata": {},
   "outputs": [
    {
     "name": "stdout",
     "output_type": "stream",
     "text": [
      "tensor(0.5817, grad_fn=<BinaryCrossEntropyBackward0>)\n",
      "tensor(0.5798, grad_fn=<BinaryCrossEntropyBackward0>)\n",
      "tensor(0.5796, grad_fn=<BinaryCrossEntropyBackward0>)\n",
      "tensor(0.5795, grad_fn=<BinaryCrossEntropyBackward0>)\n",
      "tensor(0.5794, grad_fn=<BinaryCrossEntropyBackward0>)\n",
      "tensor(0.5793, grad_fn=<BinaryCrossEntropyBackward0>)\n",
      "tensor(0.5793, grad_fn=<BinaryCrossEntropyBackward0>)\n",
      "tensor(0.5792, grad_fn=<BinaryCrossEntropyBackward0>)\n",
      "tensor(0.5791, grad_fn=<BinaryCrossEntropyBackward0>)\n",
      "tensor(0.5790, grad_fn=<BinaryCrossEntropyBackward0>)\n",
      "Weight : 0.01 tensor([[-0.1177, -0.0595, -0.0217, -0.0164,  0.1516, -0.1733]]) Bias :  tensor([-0.0072])\n",
      "tensor(0.5790, grad_fn=<BinaryCrossEntropyBackward0>)\n",
      "tensor(0.5791, grad_fn=<BinaryCrossEntropyBackward0>)\n",
      "tensor(0.5791, grad_fn=<BinaryCrossEntropyBackward0>)\n",
      "tensor(0.5791, grad_fn=<BinaryCrossEntropyBackward0>)\n",
      "tensor(0.5792, grad_fn=<BinaryCrossEntropyBackward0>)\n",
      "tensor(0.5792, grad_fn=<BinaryCrossEntropyBackward0>)\n",
      "tensor(0.5792, grad_fn=<BinaryCrossEntropyBackward0>)\n",
      "tensor(0.5792, grad_fn=<BinaryCrossEntropyBackward0>)\n",
      "tensor(0.5792, grad_fn=<BinaryCrossEntropyBackward0>)\n",
      "tensor(0.5792, grad_fn=<BinaryCrossEntropyBackward0>)\n",
      "Weight : 0.1 tensor([[-0.1012, -0.0572, -0.0185, -0.0157,  0.1464, -0.1682]]) Bias :  tensor([-0.0065])\n",
      "tensor(0.5792, grad_fn=<BinaryCrossEntropyBackward0>)\n",
      "tensor(0.5928, grad_fn=<BinaryCrossEntropyBackward0>)\n",
      "tensor(0.5930, grad_fn=<BinaryCrossEntropyBackward0>)\n",
      "tensor(0.5930, grad_fn=<BinaryCrossEntropyBackward0>)\n",
      "tensor(0.5930, grad_fn=<BinaryCrossEntropyBackward0>)\n",
      "tensor(0.5930, grad_fn=<BinaryCrossEntropyBackward0>)\n",
      "tensor(0.5930, grad_fn=<BinaryCrossEntropyBackward0>)\n",
      "tensor(0.5930, grad_fn=<BinaryCrossEntropyBackward0>)\n",
      "tensor(0.5930, grad_fn=<BinaryCrossEntropyBackward0>)\n",
      "tensor(0.5930, grad_fn=<BinaryCrossEntropyBackward0>)\n",
      "Weight : 2 tensor([[-0.0097, -0.0327, -0.0020, -0.0088,  0.0928, -0.1109]]) Bias :  tensor([-0.0018])\n",
      "tensor(0.5930, grad_fn=<BinaryCrossEntropyBackward0>)\n",
      "tensor(0.6119, grad_fn=<BinaryCrossEntropyBackward0>)\n",
      "tensor(0.6119, grad_fn=<BinaryCrossEntropyBackward0>)\n",
      "tensor(0.6119, grad_fn=<BinaryCrossEntropyBackward0>)\n",
      "tensor(0.6119, grad_fn=<BinaryCrossEntropyBackward0>)\n",
      "tensor(0.6119, grad_fn=<BinaryCrossEntropyBackward0>)\n",
      "tensor(0.6119, grad_fn=<BinaryCrossEntropyBackward0>)\n",
      "tensor(0.6119, grad_fn=<BinaryCrossEntropyBackward0>)\n",
      "tensor(0.6119, grad_fn=<BinaryCrossEntropyBackward0>)\n",
      "tensor(0.6119, grad_fn=<BinaryCrossEntropyBackward0>)\n",
      "Weight : 5 tensor([[-0.0049, -0.0202, -0.0010, -0.0049,  0.0632, -0.0764]]) Bias :  tensor([-0.0010])\n",
      "tensor(0.6119, grad_fn=<BinaryCrossEntropyBackward0>)\n",
      "tensor(0.6315, grad_fn=<BinaryCrossEntropyBackward0>)\n",
      "tensor(0.6315, grad_fn=<BinaryCrossEntropyBackward0>)\n",
      "tensor(0.6315, grad_fn=<BinaryCrossEntropyBackward0>)\n",
      "tensor(0.6315, grad_fn=<BinaryCrossEntropyBackward0>)\n",
      "tensor(0.6315, grad_fn=<BinaryCrossEntropyBackward0>)\n",
      "tensor(0.6315, grad_fn=<BinaryCrossEntropyBackward0>)\n",
      "tensor(0.6315, grad_fn=<BinaryCrossEntropyBackward0>)\n",
      "tensor(0.6315, grad_fn=<BinaryCrossEntropyBackward0>)\n",
      "tensor(0.6315, grad_fn=<BinaryCrossEntropyBackward0>)\n",
      "Weight : 10 tensor([[-0.0028, -0.0125, -0.0006, -0.0028,  0.0428, -0.0518]]) Bias :  tensor([-0.0005])\n"
     ]
    }
   ],
   "source": [
    "def weight_variation(weight_list: list):\n",
    "    \"\"\" Take a list of weight_decays and apply the SGD on each element of the list \"\"\"\n",
    "    train_losses, test_losses = [], []\n",
    "    for weight in weight_list:\n",
    "        train_losses, test_losses = training_loop(train_losses, test_losses, weight)\n",
    "        print(f\"Weight : {weight}\", model.classifier[0].state_dict()[\"weight\"], \"Bias : \", model.classifier[0].state_dict()[\"bias\"])\n",
    "        \n",
    "\n",
    "weight_list = [0.01, 0.1, 2, 5, 10]\n",
    "\n",
    "weight_variation(weight_list)"
   ]
  },
  {
   "cell_type": "markdown",
   "id": "5debf030",
   "metadata": {},
   "source": [
    "## We use a list of 5 weight_decays and get the following result :\n",
    "\n",
    "- Weight_decay : 0.01  --> tensor([[-0.1177, -0.0595, -0.0217, -0.0164,  0.1516, -0.1733]]) Bias :  tensor([-0.0072])\n",
    "- Weight_decay : 0.1 --> tensor([[-0.1012, -0.0572, -0.0185, -0.0157,  0.1464, -0.1682]]) Bias :  tensor([-0.0065])\n",
    "- Weight_decay : 2 --> tensor([[-0.0097, -0.0327, -0.0020, -0.0088,  0.0928, -0.1109]]) Bias :  tensor([-0.0018])\n",
    "- Weight_decay : 5 --> tensor([[-0.0049, -0.0202, -0.0010, -0.0049,  0.0632, -0.0764]]) Bias :  tensor([-0.0010])\n",
    "- Weight_decay : 10 --> tensor([[-0.0028, -0.0125, -0.0006, -0.0028,  0.0428, -0.0518]]) Bias :  tensor([-0.0005])\n",
    "\n",
    "With low values of the parameter weight_decay, the word 'no'(feature 1) has the most influence on both classes.\n",
    "While the value of the weight_decay is increasing, the influence tends to decrease in favor of the weights positive and negative words (feature 5 and 6). "
   ]
  },
  {
   "cell_type": "markdown",
   "id": "1f0da490",
   "metadata": {},
   "source": [
    "# Analysis of two failed predictions"
   ]
  },
  {
   "cell_type": "code",
   "execution_count": 18,
   "id": "485de2d2",
   "metadata": {},
   "outputs": [
    {
     "data": {
      "text/html": [
       "<div>\n",
       "<style scoped>\n",
       "    .dataframe tbody tr th:only-of-type {\n",
       "        vertical-align: middle;\n",
       "    }\n",
       "\n",
       "    .dataframe tbody tr th {\n",
       "        vertical-align: top;\n",
       "    }\n",
       "\n",
       "    .dataframe thead th {\n",
       "        text-align: right;\n",
       "    }\n",
       "</style>\n",
       "<table border=\"1\" class=\"dataframe\">\n",
       "  <thead>\n",
       "    <tr style=\"text-align: right;\">\n",
       "      <th></th>\n",
       "      <th>neg</th>\n",
       "      <th>pronouns</th>\n",
       "      <th>exclamation</th>\n",
       "      <th>log_count</th>\n",
       "      <th>positive_words</th>\n",
       "      <th>negative_words</th>\n",
       "      <th>label</th>\n",
       "    </tr>\n",
       "  </thead>\n",
       "  <tbody>\n",
       "    <tr>\n",
       "      <th>1</th>\n",
       "      <td>1.0</td>\n",
       "      <td>3.0</td>\n",
       "      <td>0.0</td>\n",
       "      <td>5.429346</td>\n",
       "      <td>6.0</td>\n",
       "      <td>4.0</td>\n",
       "      <td>0</td>\n",
       "    </tr>\n",
       "    <tr>\n",
       "      <th>9</th>\n",
       "      <td>1.0</td>\n",
       "      <td>5.0</td>\n",
       "      <td>0.0</td>\n",
       "      <td>5.446737</td>\n",
       "      <td>10.0</td>\n",
       "      <td>9.0</td>\n",
       "      <td>0</td>\n",
       "    </tr>\n",
       "  </tbody>\n",
       "</table>\n",
       "</div>"
      ],
      "text/plain": [
       "   neg  pronouns  exclamation  log_count  positive_words  negative_words  \\\n",
       "1  1.0       3.0          0.0   5.429346             6.0             4.0   \n",
       "9  1.0       5.0          0.0   5.446737            10.0             9.0   \n",
       "\n",
       "   label  \n",
       "1      0  \n",
       "9      0  "
      ]
     },
     "execution_count": 18,
     "metadata": {},
     "output_type": "execute_result"
    }
   ],
   "source": [
    "# Look for failed predictions\n",
    "failed_predictions = ((p_test == y_test.numpy()) == False).nonzero()\n",
    "two_wrong = list(failed_predictions[0][:2]) # We choose two wrong predictions\n",
    "\n",
    "df.iloc[two_wrong]"
   ]
  },
  {
   "cell_type": "markdown",
   "id": "de084cd7",
   "metadata": {},
   "source": [
    "We can explain the failure of the model by the fact that the 2 most important features which are the number of positive and negative words in the document have very close values."
   ]
  },
  {
   "cell_type": "markdown",
   "id": "89dd6c91",
   "metadata": {},
   "source": [
    "# Bonus"
   ]
  },
  {
   "cell_type": "code",
   "execution_count": 19,
   "id": "a97e1b1c",
   "metadata": {},
   "outputs": [
    {
     "data": {
      "text/plain": [
       "0.7042"
      ]
     },
     "execution_count": 19,
     "metadata": {},
     "output_type": "execute_result"
    }
   ],
   "source": [
    "from sklearn.linear_model import LogisticRegression\n",
    "\n",
    "clf = LogisticRegression(random_state=0).fit(X_train, np.ravel(y_train))\n",
    "clf.score(X_test, y_test)"
   ]
  },
  {
   "cell_type": "markdown",
   "id": "f779ff10",
   "metadata": {},
   "source": [
    "### We get the following score as result : 0.7042\n",
    "\n",
    "Using the scikit-learn implementation of logistic regression classifier, we can see there is no improvement in the accuracy score. We can then deduce that this is not an implementation problem but a problem of choice and representation of the differents features."
   ]
  }
 ],
 "metadata": {
  "kernelspec": {
   "display_name": "Python 3 (ipykernel)",
   "language": "python",
   "name": "python3"
  },
  "language_info": {
   "codemirror_mode": {
    "name": "ipython",
    "version": 3
   },
   "file_extension": ".py",
   "mimetype": "text/x-python",
   "name": "python",
   "nbconvert_exporter": "python",
   "pygments_lexer": "ipython3",
   "version": "3.10.11"
  }
 },
 "nbformat": 4,
 "nbformat_minor": 5
}
